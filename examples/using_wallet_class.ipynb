{
 "cells": [
  {
   "cell_type": "markdown",
   "metadata": {},
   "source": [
    "# Using the `Wallet`"
   ]
  },
  {
   "cell_type": "markdown",
   "metadata": {},
   "source": [
    "## Imports"
   ]
  },
  {
   "cell_type": "code",
   "execution_count": 275,
   "metadata": {},
   "outputs": [],
   "source": [
    "import os\n",
    "\n",
    "import pycardano as pyc\n",
    "from pycardano.cip.cip8 import sign, verify\n",
    "from pycardano.easy import Ada, Lovelace, Wallet, TokenPolicy, Token, Output\n",
    "from pycardano.logging import logger\n",
    "\n",
    "import datetime as dt\n",
    "\n",
    "from pprint import pprint"
   ]
  },
  {
   "cell_type": "markdown",
   "metadata": {},
   "source": [
    "# Create a wallet"
   ]
  },
  {
   "cell_type": "code",
   "execution_count": 89,
   "metadata": {},
   "outputs": [],
   "source": [
    "wallet_name = \"test\""
   ]
  },
  {
   "cell_type": "code",
   "execution_count": 260,
   "metadata": {},
   "outputs": [],
   "source": [
    "w = Wallet(wallet_name, network=\"testnet\")"
   ]
  },
  {
   "cell_type": "code",
   "execution_count": 131,
   "metadata": {},
   "outputs": [
    {
     "data": {
      "text/plain": [
       "addr_test1qqggspuexxdqxf8fkrtvx5usy967zp7zk4ykwrea27e2l280yjxzjg0gspza08tumhczpwmy040fmfsgxrkcdk2r4hsqrc2azd"
      ]
     },
     "execution_count": 131,
     "metadata": {},
     "output_type": "execute_result"
    }
   ],
   "source": [
    "w.address"
   ]
  },
  {
   "cell_type": "code",
   "execution_count": 188,
   "metadata": {},
   "outputs": [
    {
     "data": {
      "text/plain": [
       "addr_test1vqggspuexxdqxf8fkrtvx5usy967zp7zk4ykwrea27e2l2qmchv8f"
      ]
     },
     "execution_count": 188,
     "metadata": {},
     "output_type": "execute_result"
    }
   ],
   "source": [
    "# address of the payment part\n",
    "w.payment_address"
   ]
  },
  {
   "cell_type": "code",
   "execution_count": 189,
   "metadata": {},
   "outputs": [
    {
     "data": {
      "text/plain": [
       "stake_test1urhjfrpfy85gq3whn47dmupqhdj86h5a5cyrpmvxm9p6mcqtyhx4g"
      ]
     },
     "execution_count": 189,
     "metadata": {},
     "output_type": "execute_result"
    }
   ],
   "source": [
    "# address of the staking part\n",
    "w.stake_address"
   ]
  },
  {
   "cell_type": "markdown",
   "metadata": {},
   "source": [
    "## Send ADA to wallet and query utxos"
   ]
  },
  {
   "cell_type": "code",
   "execution_count": 134,
   "metadata": {},
   "outputs": [],
   "source": [
    "w.query_utxos()"
   ]
  },
  {
   "cell_type": "code",
   "execution_count": 135,
   "metadata": {},
   "outputs": [
    {
     "name": "stdout",
     "output_type": "stream",
     "text": [
      "15.965142\n",
      "15965142\n"
     ]
    }
   ],
   "source": [
    "print(w.ada)\n",
    "print(w.lovelace)"
   ]
  },
  {
   "cell_type": "markdown",
   "metadata": {},
   "source": [
    "### Get the creator (sender) of each utxo"
   ]
  },
  {
   "cell_type": "code",
   "execution_count": 150,
   "metadata": {},
   "outputs": [],
   "source": [
    "w.get_utxo_creators()"
   ]
  },
  {
   "cell_type": "code",
   "execution_count": 152,
   "metadata": {},
   "outputs": [
    {
     "data": {
      "text/plain": [
       "'addr_test1vqggspuexxdqxf8fkrtvx5usy967zp7zk4ykwrea27e2l2qmchv8f'"
      ]
     },
     "execution_count": 152,
     "metadata": {},
     "output_type": "execute_result"
    }
   ],
   "source": [
    "w.utxos[0].creator"
   ]
  },
  {
   "cell_type": "markdown",
   "metadata": {},
   "source": [
    "### Get the block height of each utxo and sort "
   ]
  },
  {
   "cell_type": "code",
   "execution_count": 154,
   "metadata": {},
   "outputs": [],
   "source": [
    "w.get_utxo_block_times()"
   ]
  },
  {
   "cell_type": "code",
   "execution_count": 156,
   "metadata": {},
   "outputs": [
    {
     "data": {
      "text/plain": [
       "1658076307"
      ]
     },
     "execution_count": 156,
     "metadata": {},
     "output_type": "execute_result"
    }
   ],
   "source": [
    "w.utxos[0].block_time"
   ]
  },
  {
   "cell_type": "markdown",
   "metadata": {},
   "source": [
    "## View Tokens and get their metadata"
   ]
  },
  {
   "cell_type": "code",
   "execution_count": 128,
   "metadata": {},
   "outputs": [
    {
     "data": {
      "text/plain": [
       "[Token(policy=TokenPolicy(name='6a4dfeee'), amount=1, name='PastaFun004', hex_name='506173746146756e303034', metadata={}),\n",
       " Token(policy=TokenPolicy(name='6a4dfeee'), amount=2, name='PastaFun006', hex_name='506173746146756e303036', metadata={}),\n",
       " Token(policy=TokenPolicy(name='6a4dfeee'), amount=4, name='PastaFun007', hex_name='506173746146756e303037', metadata={}),\n",
       " Token(policy=TokenPolicy(name='6a4dfeee'), amount=2, name='PastaFun008', hex_name='506173746146756e303038', metadata={}),\n",
       " Token(policy=TokenPolicy(name='83f8b74f'), amount=1, name='temptoken1', hex_name='74656d70746f6b656e31', metadata={})]"
      ]
     },
     "execution_count": 128,
     "metadata": {},
     "output_type": "execute_result"
    }
   ],
   "source": [
    "w.tokens"
   ]
  },
  {
   "cell_type": "code",
   "execution_count": 137,
   "metadata": {},
   "outputs": [],
   "source": [
    "w.get_token_metadata()"
   ]
  },
  {
   "cell_type": "code",
   "execution_count": 147,
   "metadata": {},
   "outputs": [
    {
     "data": {
      "text/plain": [
       "Token(policy=TokenPolicy(name='6a4dfeee'), amount=1, name='PastaFun004', hex_name='506173746146756e303034', metadata={'name': 'Pasta Fun 004', 'image': 'ipfs://QmZ5WqN65x4dKueofyfXwiRhAoLSvue8gHp4VamKYyVKLJ', 'description': 'This is pasta!'})"
      ]
     },
     "execution_count": 147,
     "metadata": {},
     "output_type": "execute_result"
    }
   ],
   "source": [
    "w.tokens[0]"
   ]
  },
  {
   "cell_type": "code",
   "execution_count": 144,
   "metadata": {},
   "outputs": [
    {
     "data": {
      "text/plain": [
       "'6a4dfeee6fb7c02148c26575e594acb61dc2825ffadd0d09909c6b74'"
      ]
     },
     "execution_count": 144,
     "metadata": {},
     "output_type": "execute_result"
    }
   ],
   "source": [
    "w.tokens[0].policy_id"
   ]
  },
  {
   "cell_type": "code",
   "execution_count": 143,
   "metadata": {},
   "outputs": [
    {
     "data": {
      "text/plain": [
       "{'name': 'Pasta Fun 004',\n",
       " 'image': 'ipfs://QmZ5WqN65x4dKueofyfXwiRhAoLSvue8gHp4VamKYyVKLJ',\n",
       " 'description': 'This is pasta!'}"
      ]
     },
     "execution_count": 143,
     "metadata": {},
     "output_type": "execute_result"
    }
   ],
   "source": [
    "w.tokens[0].metadata"
   ]
  },
  {
   "cell_type": "code",
   "execution_count": 149,
   "metadata": {},
   "outputs": [
    {
     "name": "stdout",
     "output_type": "stream",
     "text": [
      "{'6a4dfeee6fb7c02148c26575e594acb61dc2825ffadd0d09909c6b74': {'PastaFun004': 1,\n",
      "                                                              'PastaFun006': 2,\n",
      "                                                              'PastaFun007': 4,\n",
      "                                                              'PastaFun008': 2},\n",
      " '83f8b74f0b49680c9944303afaf4333dac682135e7a05ad71bc66229': {'temptoken1': 1}}\n"
     ]
    }
   ],
   "source": [
    "pprint(w.tokens_dict)"
   ]
  },
  {
   "cell_type": "markdown",
   "metadata": {},
   "source": [
    "## Sign a Message\n",
    "- with either payment key or stake key"
   ]
  },
  {
   "cell_type": "code",
   "execution_count": 180,
   "metadata": {},
   "outputs": [
    {
     "name": "stdout",
     "output_type": "stream",
     "text": [
      "84584da301276761646472657373581d6010880799319a0324e9b0d6c353902175e107c2b549670f3d57b2afa804582073cd3b0641209194bae64953311072bab0897feef55e5df71e9e5d2f0f5aaea8a166686173686564f44b48656c6c6f20576f726c645840d53c57e6d4fb7cfaedb8225aa41b9f4f7742a85cb8f3e0638dec53ec0ce86553498d1d94fb9401d05f77d9c7bb9ca3d593ae490da69f248cb58e1dba8a47ea04\n"
     ]
    }
   ],
   "source": [
    "signed_message = w.sign_message(\"Hello World\")\n",
    "print(signed_message)"
   ]
  },
  {
   "cell_type": "code",
   "execution_count": 158,
   "metadata": {},
   "outputs": [
    {
     "data": {
      "text/plain": [
       "'84584da301276761646472657373581d60ef248c2921e88045d79d7cddf020bb647d5e9da60830ed86d943ade0045820a1128f3e7f44f3a3cffedf3497686ad014fc824f609daa0ccd25370e1da9b8f8a166686173686564f44b48656c6c6f20576f726c645840dcb087b86866eb465e6b0a8c4723f9482e93a14c76936f7240d8ac73335494f88cefae3d18647ebcda19648bfee556eafb506f4d0555571f8343f04bd2551905'"
      ]
     },
     "execution_count": 158,
     "metadata": {},
     "output_type": "execute_result"
    }
   ],
   "source": [
    "w.sign_message(\"Hello World\", mode=\"stake\")"
   ]
  },
  {
   "cell_type": "markdown",
   "metadata": {},
   "source": [
    "### Verify Signed message"
   ]
  },
  {
   "cell_type": "code",
   "execution_count": 182,
   "metadata": {},
   "outputs": [
    {
     "name": "stdout",
     "output_type": "stream",
     "text": [
      "{'message': 'Hello World',\n",
      " 'signing_address': addr_test1vqggspuexxdqxf8fkrtvx5usy967zp7zk4ykwrea27e2l2qmchv8f,\n",
      " 'verified': True}\n"
     ]
    }
   ],
   "source": [
    "verification = verify(signed_message)\n",
    "pprint(verification)"
   ]
  },
  {
   "cell_type": "code",
   "execution_count": 186,
   "metadata": {},
   "outputs": [
    {
     "name": "stdout",
     "output_type": "stream",
     "text": [
      "addr_test1vqggspuexxdqxf8fkrtvx5usy967zp7zk4ykwrea27e2l2qmchv8f\n",
      "addr_test1vqggspuexxdqxf8fkrtvx5usy967zp7zk4ykwrea27e2l2qmchv8f\n"
     ]
    }
   ],
   "source": [
    "print(w.payment_address)\n",
    "print(verification[\"signing_address\"])"
   ]
  },
  {
   "cell_type": "markdown",
   "metadata": {},
   "source": [
    "## Send ADA\n",
    "- for easy simple ADA-only transactions\n",
    "- returns the transaction ID"
   ]
  },
  {
   "cell_type": "code",
   "execution_count": 164,
   "metadata": {},
   "outputs": [],
   "source": [
    "receiver = \"addr_test1qqggspuexxdqxf8fkrtvx5usy967zp7zk4ykwrea27e2l280yjxzjg0gspza08tumhczpwmy040fmfsgxrkcdk2r4hsqrc2azd\""
   ]
  },
  {
   "cell_type": "code",
   "execution_count": 165,
   "metadata": {},
   "outputs": [
    {
     "data": {
      "text/plain": [
       "'12b115c85877452ac4acd41c4c03227466b8b6a4113a2a718e53f41ffa18a217'"
      ]
     },
     "execution_count": 165,
     "metadata": {},
     "output_type": "execute_result"
    }
   ],
   "source": [
    "w.send_ada(receiver, Ada(2.5))"
   ]
  },
  {
   "cell_type": "markdown",
   "metadata": {},
   "source": [
    "## Send entire UTxO(s)\n",
    "- Useful for sending refunds back to sender\n",
    "- With any transaction you can \"await_confirmation\". The context gets polled every N seconds and returns the transaction ID upon confirmation"
   ]
  },
  {
   "cell_type": "code",
   "execution_count": 167,
   "metadata": {},
   "outputs": [],
   "source": [
    "w.query_utxos()"
   ]
  },
  {
   "cell_type": "code",
   "execution_count": 171,
   "metadata": {},
   "outputs": [],
   "source": [
    "w.get_utxo_creators()"
   ]
  },
  {
   "cell_type": "code",
   "execution_count": 172,
   "metadata": {},
   "outputs": [
    {
     "name": "stdout",
     "output_type": "stream",
     "text": [
      "{'creator': 'addr_test1qqggspuexxdqxf8fkrtvx5usy967zp7zk4ykwrea27e2l280yjxzjg0gspza08tumhczpwmy040fmfsgxrkcdk2r4hsqrc2azd',\n",
      " 'input': {'index': 0,\n",
      " 'transaction_id': TransactionId(hex='12b115c85877452ac4acd41c4c03227466b8b6a4113a2a718e53f41ffa18a217')},\n",
      " 'output': {'address': addr_test1qqggspuexxdqxf8fkrtvx5usy967zp7zk4ykwrea27e2l280yjxzjg0gspza08tumhczpwmy040fmfsgxrkcdk2r4hsqrc2azd,\n",
      " 'amount': {'coin': 2500000, 'multi_asset': {}},\n",
      " 'datum_hash': None}}\n"
     ]
    }
   ],
   "source": [
    "pprint(w.utxos[0])"
   ]
  },
  {
   "cell_type": "code",
   "execution_count": 170,
   "metadata": {},
   "outputs": [],
   "source": [
    "utxo_to_return = w.utxos[0]"
   ]
  },
  {
   "cell_type": "code",
   "execution_count": 175,
   "metadata": {},
   "outputs": [
    {
     "data": {
      "text/plain": [
       "'0c4f49bbe6e6d9c7a252a9caf3e19d8599a00be001cb132ae5eb04eae69be269'"
      ]
     },
     "execution_count": 175,
     "metadata": {},
     "output_type": "execute_result"
    }
   ],
   "source": [
    "w.send_utxo(utxo_to_return.creator, utxos=utxo_to_return, await_confirmation=True)"
   ]
  },
  {
   "cell_type": "markdown",
   "metadata": {},
   "source": [
    "## Empty an entire wallet\n",
    "- Useful for consolidating UTxOs or retiring the wallet\n",
    "- Sends all UTxOs to one place\n",
    "- Can attach a 674 metadata message to any transaction using `message`"
   ]
  },
  {
   "cell_type": "code",
   "execution_count": null,
   "metadata": {},
   "outputs": [],
   "source": [
    "w.empty_wallet(receiver, message=\"Thank you!\")"
   ]
  },
  {
   "cell_type": "markdown",
   "metadata": {},
   "source": [
    "## Minting token Example"
   ]
  },
  {
   "cell_type": "code",
   "execution_count": 193,
   "metadata": {},
   "outputs": [],
   "source": [
    "# Create a token policy\n",
    "\n",
    "policy = TokenPolicy(name=\"funTokens\")"
   ]
  },
  {
   "cell_type": "code",
   "execution_count": 197,
   "metadata": {},
   "outputs": [],
   "source": [
    "# Generate expiring policy script\n",
    "signers = [w]\n",
    "expiration = dt.datetime(2022, 12, 12, 12, 12, 12)\n",
    "\n",
    "policy.generate_minting_policy(signers=w, expiration=expiration, context=w.context)"
   ]
  },
  {
   "cell_type": "code",
   "execution_count": 309,
   "metadata": {},
   "outputs": [
    {
     "name": "stdout",
     "output_type": "stream",
     "text": [
      "Policy ID: b05459b2d99406567b3a66e30e1415fe24e233d1fe6f063c10f79d99\n"
     ]
    }
   ],
   "source": [
    "print(\"Policy ID:\", policy.id)"
   ]
  },
  {
   "cell_type": "code",
   "execution_count": 211,
   "metadata": {},
   "outputs": [
    {
     "name": "stdout",
     "output_type": "stream",
     "text": [
      "[VerificationKeyHash(hex='10880799319a0324e9b0d6c353902175e107c2b549670f3d57b2afa8')]\n",
      "Expiration Slot : 76470652\n",
      "Expiration Timestamp:  2022-12-12 10:11:16.131225+00:00\n",
      "Is expired:  False\n"
     ]
    }
   ],
   "source": [
    "# other available info\n",
    "\n",
    "print(policy.required_signatures)\n",
    "print(\"Expiration Slot :\", policy.expiration_slot)\n",
    "print(\"Expiration Timestamp: \", policy.get_expiration_timestamp(w.context))\n",
    "print(\"Is expired: \", policy.is_expired(w.context))"
   ]
  },
  {
   "cell_type": "code",
   "execution_count": 308,
   "metadata": {},
   "outputs": [
    {
     "name": "stdout",
     "output_type": "stream",
     "text": [
      "{'scripts': [{'keyHash': '10880799319a0324e9b0d6c353902175e107c2b549670f3d57b2afa8',\n",
      "              'type': 'sig'},\n",
      "             {'slot': 76470652, 'type': 'before'}],\n",
      " 'type': 'all'}\n"
     ]
    }
   ],
   "source": [
    "pprint(policy.script.to_dict())"
   ]
  },
  {
   "cell_type": "markdown",
   "metadata": {},
   "source": [
    "### Mint some tokens!"
   ]
  },
  {
   "cell_type": "code",
   "execution_count": 225,
   "metadata": {},
   "outputs": [],
   "source": [
    "metadata = {\n",
    "    \"name\": \"Fun Token 001\", \n",
    "    \"image\": \"ipfs://QmZ5WqN65x4dKueofyfXwiRhAoLSvue8gHp4VamKYyVKLJ\", \n",
    "    \"description\": \"This is a fun token.\"\n",
    "}\n",
    "\n",
    "metadata2 = {\n",
    "    \"name\": \"Fun Token 002\", \n",
    "    \"image\": \"ipfs://QmZ5WqN65x4dKueofyfXwiRhAoLSvue8gHp4VamKYyVKLJ\", \n",
    "    \"description\": \"This is a second fun token.\"\n",
    "}"
   ]
  },
  {
   "cell_type": "code",
   "execution_count": 226,
   "metadata": {},
   "outputs": [],
   "source": [
    "funToken1 = Token(policy, amount=1, name=\"FunToken001\", metadata=metadata)\n",
    "funToken2 = Token(policy, amount=2, name=\"FunToken002\", metadata=metadata2)\n"
   ]
  },
  {
   "cell_type": "code",
   "execution_count": 227,
   "metadata": {},
   "outputs": [
    {
     "data": {
      "text/plain": [
       "'c705213f6cf8f1277cdcb7bf954aa6aa2da457dd7d9f114db33038099db7e8eb'"
      ]
     },
     "execution_count": 227,
     "metadata": {},
     "output_type": "execute_result"
    }
   ],
   "source": [
    "w.mint_tokens(\n",
    "    receiver, \n",
    "    mints=[funToken1, funToken2], \n",
    "    amount=Ada(2.5),  # Ada to attach to tokens\n",
    ")"
   ]
  },
  {
   "cell_type": "markdown",
   "metadata": {},
   "source": [
    "### Burn a token"
   ]
  },
  {
   "cell_type": "code",
   "execution_count": 261,
   "metadata": {},
   "outputs": [],
   "source": [
    "w.query_utxos()"
   ]
  },
  {
   "cell_type": "code",
   "execution_count": 263,
   "metadata": {},
   "outputs": [
    {
     "data": {
      "text/plain": [
       "[Token(policy=TokenPolicy(name='funTokens'), amount=1, name='FunToken001', hex_name='46756e546f6b656e303031', metadata={}),\n",
       " Token(policy=TokenPolicy(name='funTokens'), amount=2, name='FunToken002', hex_name='46756e546f6b656e303032', metadata={})]"
      ]
     },
     "execution_count": 263,
     "metadata": {},
     "output_type": "execute_result"
    }
   ],
   "source": [
    "# the policy is recognized and loaded in automatically\n",
    "\n",
    "w.tokens"
   ]
  },
  {
   "cell_type": "code",
   "execution_count": 269,
   "metadata": {},
   "outputs": [],
   "source": [
    "to_burn = w.tokens[1]"
   ]
  },
  {
   "cell_type": "code",
   "execution_count": 270,
   "metadata": {},
   "outputs": [],
   "source": [
    "# set amount to a negative number to burn\n",
    "\n",
    "to_burn.amount = -1"
   ]
  },
  {
   "cell_type": "code",
   "execution_count": null,
   "metadata": {},
   "outputs": [],
   "source": [
    "w.mint_tokens(\n",
    "    receiver, \n",
    "    mints=[to_burn], \n",
    "    amount=Ada(4),  # Ada to attach to tokens\n",
    "    await_confirmation=True,\n",
    ")"
   ]
  },
  {
   "cell_type": "code",
   "execution_count": 274,
   "metadata": {},
   "outputs": [
    {
     "data": {
      "text/plain": [
       "[Token(policy=TokenPolicy(name='funTokens'), amount=1, name='FunToken001', hex_name='46756e546f6b656e303031', metadata={}),\n",
       " Token(policy=TokenPolicy(name='funTokens'), amount=1, name='FunToken002', hex_name='46756e546f6b656e303032', metadata={})]"
      ]
     },
     "execution_count": 274,
     "metadata": {},
     "output_type": "execute_result"
    }
   ],
   "source": [
    "w.tokens"
   ]
  },
  {
   "cell_type": "markdown",
   "metadata": {},
   "source": [
    "## Draft a manual transaction\n",
    "- Can give Wallets, addresses, string addresses, and UTxOs (or any combination thereof) as inputs.\n",
    "- Must manually specify all outputs, plus a change address\n",
    "- Can mint, burn, send ada, tokens, attach a message, attach any metadata\n",
    "- Can return the signed transaction CBOR for sending to others in case of multisignature scenarios"
   ]
  },
  {
   "cell_type": "code",
   "execution_count": 321,
   "metadata": {},
   "outputs": [],
   "source": [
    "outputs = [\n",
    "    Output(w, Ada(2), funToken1),\n",
    "    Output(w, Lovelace(1700000), funToken2)\n",
    "]"
   ]
  },
  {
   "cell_type": "code",
   "execution_count": 322,
   "metadata": {},
   "outputs": [],
   "source": [
    "tx = w.manual(\n",
    "    inputs=w,\n",
    "    outputs=outputs,\n",
    "    message=\"Fun times.\",\n",
    "    mints=[funToken1, funToken2],\n",
    "    other_metadata={111: \"Random stuff\"},\n",
    "    submit=False,\n",
    ")"
   ]
  },
  {
   "cell_type": "code",
   "execution_count": 323,
   "metadata": {},
   "outputs": [
    {
     "name": "stdout",
     "output_type": "stream",
     "text": [
      "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\n"
     ]
    }
   ],
   "source": [
    "print(tx)"
   ]
  },
  {
   "cell_type": "code",
   "execution_count": 324,
   "metadata": {},
   "outputs": [
    {
     "name": "stdout",
     "output_type": "stream",
     "text": [
      "{'auxiliary_data': AuxiliaryData(data=AlonzoMetadata(metadata={111: 'Random stuff', 674: {'msg': ['Fun times.']}, 721: {'b05459b2d99406567b3a66e30e1415fe24e233d1fe6f063c10f79d99': {'FunToken001': {'name': 'Fun Token 001', 'image': 'ipfs://QmZ5WqN65x4dKueofyfXwiRhAoLSvue8gHp4VamKYyVKLJ', 'description': 'This is a fun token.'}, 'FunToken002': {'name': 'Fun Token 002', 'image': 'ipfs://QmZ5WqN65x4dKueofyfXwiRhAoLSvue8gHp4VamKYyVKLJ', 'description': 'This is a second fun token.'}}}}, native_scripts=None, plutus_scripts=None)),\n",
      " 'transaction_body': {'auxiliary_data_hash': AuxiliaryDataHash(hex='ee0d472bcd8a990980bdbc8e8a968c384f43d66191e4d8f02776b57424657e81'),\n",
      " 'certificates': None,\n",
      " 'collateral': None,\n",
      " 'fee': 199777,\n",
      " 'inputs': [{'index': 1,\n",
      " 'transaction_id': TransactionId(hex='c705213f6cf8f1277cdcb7bf954aa6aa2da457dd7d9f114db33038099db7e8eb')}],\n",
      " 'mint': {ScriptHash(hex='b05459b2d99406567b3a66e30e1415fe24e233d1fe6f063c10f79d99'): {AssetName(b'FunToken001'): 1, AssetName(b'FunToken002'): 2}},\n",
      " 'network_id': None,\n",
      " 'outputs': [{'address': addr_test1qqggspuexxdqxf8fkrtvx5usy967zp7zk4ykwrea27e2l280yjxzjg0gspza08tumhczpwmy040fmfsgxrkcdk2r4hsqrc2azd,\n",
      " 'amount': {'coin': 8694983,\n",
      " 'multi_asset': {ScriptHash(hex='6a4dfeee6fb7c02148c26575e594acb61dc2825ffadd0d09909c6b74'): {AssetName(b'PastaFun004'): 1, AssetName(b'PastaFun006'): 2, AssetName(b'PastaFun007'): 4, AssetName(b'PastaFun008'): 2}, ScriptHash(hex='83f8b74f0b49680c9944303afaf4333dac682135e7a05ad71bc66229'): {AssetName(b'temptoken1'): 1}, ScriptHash(hex='b05459b2d99406567b3a66e30e1415fe24e233d1fe6f063c10f79d99'): {AssetName(b'FunToken001'): 1}}},\n",
      " 'datum_hash': None},\n",
      "             {'address': addr_test1qqggspuexxdqxf8fkrtvx5usy967zp7zk4ykwrea27e2l280yjxzjg0gspza08tumhczpwmy040fmfsgxrkcdk2r4hsqrc2azd,\n",
      " 'amount': {'coin': 1700000,\n",
      " 'multi_asset': {ScriptHash(hex='b05459b2d99406567b3a66e30e1415fe24e233d1fe6f063c10f79d99'): {AssetName(b'FunToken002'): 2}}},\n",
      " 'datum_hash': None}],\n",
      " 'required_signers': None,\n",
      " 'script_data_hash': None,\n",
      " 'ttl': 76470652,\n",
      " 'update': None,\n",
      " 'validity_start': None,\n",
      " 'withdraws': None},\n",
      " 'transaction_witness_set': {'bootstrap_witness': None,\n",
      " 'native_scripts': [ScriptAll(_TYPE=1, native_scripts=[ScriptPubkey(_TYPE=0, key_hash=VerificationKeyHash(hex='10880799319a0324e9b0d6c353902175e107c2b549670f3d57b2afa8')), InvalidHereAfter(_TYPE=5, after=76470652)])],\n",
      " 'plutus_data': None,\n",
      " 'plutus_script': None,\n",
      " 'redeemer': None,\n",
      " 'vkey_witnesses': [{'signature': b\"\\xd7\\xf7\\xe8\\r\\x1d\\xaev\\xd3\\x00-5hL\\x8dW\\x99\\xcc'\\xaf.\"\n",
      "              b'[[\\x8f\\xe2Hn\\x9e\\xfbh\\x1f<7\\xab\\x80\\x89\\xd2\\x96\\x03m\\x83'\n",
      "              b'J\\xe1x\\x16\\x80\\x17\\xd5\\xea\\xe0\\xb3\\xd4V5e^y\\x81\\xcf$D'\n",
      "              b'\\xd3\\x8c\\xeb\\n',\n",
      " 'vkey': {\"type\": \"\", \"description\": \"\", \"cborHex\": \"582073cd3b0641209194bae64953311072bab0897feef55e5df71e9e5d2f0f5aaea8\"}}]},\n",
      " 'valid': True}\n"
     ]
    }
   ],
   "source": [
    "print(pyc.Transaction.from_cbor(tx))"
   ]
  },
  {
   "cell_type": "code",
   "execution_count": null,
   "metadata": {},
   "outputs": [],
   "source": []
  }
 ],
 "metadata": {
  "kernelspec": {
   "display_name": "pycardano-dev",
   "language": "python",
   "name": "pycardano-dev"
  },
  "language_info": {
   "codemirror_mode": {
    "name": "ipython",
    "version": 3
   },
   "file_extension": ".py",
   "mimetype": "text/x-python",
   "name": "python",
   "nbconvert_exporter": "python",
   "pygments_lexer": "ipython3",
   "version": "3.8.8"
  },
  "toc-autonumbering": true
 },
 "nbformat": 4,
 "nbformat_minor": 4
}
